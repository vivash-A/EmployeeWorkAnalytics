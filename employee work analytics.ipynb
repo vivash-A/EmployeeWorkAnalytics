{
 "cells": [
  {
   "cell_type": "code",
   "execution_count": 1,
   "id": "8a58825a-c94f-44ad-9ddc-672e6a42a2fd",
   "metadata": {},
   "outputs": [],
   "source": [
    "import numpy as np "
   ]
  },
  {
   "cell_type": "code",
   "execution_count": 2,
   "id": "8cb0112b-8069-4520-9d93-1b8d2d2bbc1f",
   "metadata": {},
   "outputs": [],
   "source": [
    "import pandas as pd"
   ]
  },
  {
   "cell_type": "code",
   "execution_count": 3,
   "id": "1501d8a4-d3cc-45c9-a71e-931a906c0661",
   "metadata": {},
   "outputs": [],
   "source": [
    "np.random.seed(42)"
   ]
  },
  {
   "cell_type": "code",
   "execution_count": 11,
   "id": "345331b8-0d1e-4bee-8721-3fe3f7968ea2",
   "metadata": {},
   "outputs": [],
   "source": [
    "employee_ids =[f\"EMP_{i:03d}\" for i in range (1,31)]\n",
    "dates = pd. date_range(\"2025-07-01\",periods=30, freq=\"D\")"
   ]
  },
  {
   "cell_type": "code",
   "execution_count": 12,
   "id": "ced74caf-ff1c-49c2-852a-ca04d99adf22",
   "metadata": {},
   "outputs": [
    {
     "data": {
      "text/plain": [
       "DatetimeIndex(['2025-07-01', '2025-07-02', '2025-07-03', '2025-07-04',\n",
       "               '2025-07-05', '2025-07-06', '2025-07-07', '2025-07-08',\n",
       "               '2025-07-09', '2025-07-10', '2025-07-11', '2025-07-12',\n",
       "               '2025-07-13', '2025-07-14', '2025-07-15', '2025-07-16',\n",
       "               '2025-07-17', '2025-07-18', '2025-07-19', '2025-07-20',\n",
       "               '2025-07-21', '2025-07-22', '2025-07-23', '2025-07-24',\n",
       "               '2025-07-25', '2025-07-26', '2025-07-27', '2025-07-28',\n",
       "               '2025-07-29', '2025-07-30'],\n",
       "              dtype='datetime64[ns]', freq='D')"
      ]
     },
     "execution_count": 12,
     "metadata": {},
     "output_type": "execute_result"
    }
   ],
   "source": [
    "dates"
   ]
  },
  {
   "cell_type": "code",
   "execution_count": 18,
   "id": "a3039468-e9b5-4733-aebb-533a7c92cbf4",
   "metadata": {},
   "outputs": [],
   "source": [
    "data = { \n",
    "    \n",
    "            \"Date\": np.tile(dates, len(employee_ids)), \n",
    "            \"Employee_ID\" : np.repeat(employee_ids, len(dates)), \n",
    "            \"Working_Hours\": np.random.uniform(4, 10, size=len(dates) \n",
    "* len(employee_ids)).round(2) \n",
    " \n",
    "} "
   ]
  },
  {
   "cell_type": "code",
   "execution_count": 19,
   "id": "c1eccb38-994e-414c-8190-5ac5ff8a8cca",
   "metadata": {},
   "outputs": [],
   "source": [
    "df = pd.DataFrame(data)"
   ]
  },
  {
   "cell_type": "code",
   "execution_count": 21,
   "id": "0d83dd49-f3b9-4c1d-aea9-2e655f4d7e7d",
   "metadata": {},
   "outputs": [],
   "source": [
    "df.to_csv(\"employee_working_hours.csv\", index=False)"
   ]
  },
  {
   "cell_type": "code",
   "execution_count": 22,
   "id": "2ff2b6c9-0dc7-4ed8-a48b-6114d3011579",
   "metadata": {},
   "outputs": [],
   "source": [
    "df_csv = pd.read_csv(\"employee_working_hours.csv\")"
   ]
  },
  {
   "cell_type": "code",
   "execution_count": 24,
   "id": "50f781a7-3d2e-4f50-81dd-18b69a9d3335",
   "metadata": {},
   "outputs": [
    {
     "name": "stdout",
     "output_type": "stream",
     "text": [
      "         Date Employee_ID  Working_Hours\n",
      "0  2025-07-01     EMP_001           6.25\n",
      "1  2025-07-02     EMP_001           9.70\n",
      "2  2025-07-03     EMP_001           8.39\n",
      "3  2025-07-04     EMP_001           7.59\n",
      "4  2025-07-05     EMP_001           4.94\n",
      "       Working_Hours\n",
      "count     900.000000\n",
      "mean        6.954233\n",
      "std         1.762088\n",
      "min         4.030000\n",
      "25%         5.387500\n",
      "50%         7.010000\n",
      "75%         8.490000\n",
      "max        10.000000\n",
      "30\n"
     ]
    }
   ],
   "source": [
    "print(df_csv.head()) \n",
    "print(df_csv.describe()) \n",
    "print(df_csv[\"Employee_ID\"].nunique())"
   ]
  },
  {
   "cell_type": "code",
   "execution_count": 29,
   "id": "1d5f5201-77e6-4e60-a137-7ab0eb084fbd",
   "metadata": {},
   "outputs": [],
   "source": [
    "total_hours = df_csv.groupby(\"Employee_ID\")[\"Working_Hours\"].sum().sort_values(ascending=False)"
   ]
  },
  {
   "cell_type": "code",
   "execution_count": 30,
   "id": "4efa79b8-7af5-4320-90b3-e1ba487a490c",
   "metadata": {},
   "outputs": [],
   "source": [
    "avg_daily = df_csv.groupby(\"Employee_ID\")[\"Working_Hours\"].mean()"
   ]
  },
  {
   "cell_type": "code",
   "execution_count": 31,
   "id": "a8dbeffd-97af-4277-95b7-7a9a8aa8f826",
   "metadata": {},
   "outputs": [],
   "source": [
    "threshold_low = 5 \n",
    "threshold_high = 9"
   ]
  },
  {
   "cell_type": "code",
   "execution_count": 32,
   "id": "c64d8602-7b89-4282-8082-72b2dca39bfd",
   "metadata": {},
   "outputs": [],
   "source": [
    "df_csv[\"Low_Hour_Flag\"] = df_csv[\"Working_Hours\"] < threshold_low \n",
    "df_csv[\"High_Hour_Flag\"]=df_csv[\"Working_Hours\"] > threshold_high "
   ]
  },
  {
   "cell_type": "code",
   "execution_count": 33,
   "id": "d7854999-5970-48ac-a939-2cb0c6f83bbc",
   "metadata": {},
   "outputs": [
    {
     "name": "stdout",
     "output_type": "stream",
     "text": [
      "         Date Employee_ID  Working_Hours  Low_Hour_Flag  High_Hour_Flag\n",
      "1  2025-07-02     EMP_001           9.70          False            True\n",
      "4  2025-07-05     EMP_001           4.94           True           False\n",
      "5  2025-07-06     EMP_001           4.94           True           False\n",
      "6  2025-07-07     EMP_001           4.35           True           False\n",
      "7  2025-07-08     EMP_001           9.20          False            True\n"
     ]
    }
   ],
   "source": [
    "print(df_csv[df_csv[\"Low_Hour_Flag\"] | \n",
    "df_csv[\"High_Hour_Flag\"]].head())"
   ]
  },
  {
   "cell_type": "code",
   "execution_count": 34,
   "id": "1d989517-7c9f-4e84-bb54-44895fa3a746",
   "metadata": {},
   "outputs": [],
   "source": [
    "import matplotlib.pyplot as plt \n",
    "import seaborn as sns"
   ]
  },
  {
   "cell_type": "code",
   "execution_count": 35,
   "id": "ebbf75e5-0990-479a-9289-13d54cf3060a",
   "metadata": {},
   "outputs": [
    {
     "data": {
      "image/png": "[encoded data removed]",
      "text/plain": [
       "<Figure size 1000x500 with 1 Axes>"
      ]
     },
     "metadata": {},
     "output_type": "display_data"
    }
   ],
   "source": [
    "top10 = total_hours.head(10) \n",
    "plt.figure(figsize=(10,5)) \n",
    "sns.barplot(x=top10.index, y=top10.values) \n",
    "plt.xticks(rotation=45) \n",
    "plt.title(\"Top 10 Employees by Total working Hours\") \n",
    "plt.ylabel(\"Hours\") \n",
    "plt.tight_layout() \n",
    "plt.show() "
   ]
  },
  {
   "cell_type": "code",
   "execution_count": 37,
   "id": "ca999cc7-11ab-43c8-9b4a-dc12bbb3d703",
   "metadata": {},
   "outputs": [
    {
     "data": {
      "text/plain": [
       "Date             2025-07-23 00:00:00\n",
       "Employee_ID                  EMP_002\n",
       "Working_Hours                   9.64\n",
       "Name: 52, dtype: object"
      ]
     },
     "execution_count": 37,
     "metadata": {},
     "output_type": "execute_result"
    }
   ],
   "source": [
    "row = df.iloc[52]\n",
    "row"
   ]
  },
  {
   "cell_type": "code",
   "execution_count": null,
   "id": "f808e017-16dc-41e4-8c8c-f5ce16db3e7a",
   "metadata": {},
   "outputs": [],
   "source": []
  }
 ],
 "metadata": {
  "kernelspec": {
   "display_name": "Python 3 (ipykernel)",
   "language": "python",
   "name": "python3"
  },
  "language_info": {
   "codemirror_mode": {
    "name": "ipython",
    "version": 3
   },
   "file_extension": ".py",
   "mimetype": "text/x-python",
   "name": "python",
   "nbconvert_exporter": "python",
   "pygments_lexer": "ipython3",
   "version": "3.13.5"
  }
 },
 "nbformat": 4,
 "nbformat_minor": 5
}
